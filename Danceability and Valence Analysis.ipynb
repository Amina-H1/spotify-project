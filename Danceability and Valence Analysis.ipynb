{
 "cells": [
  {
   "cell_type": "markdown",
   "id": "b3f3d56b",
   "metadata": {},
   "source": [
    "# Danceability & Valence analysis of the Playlist\n",
    "\n",
    "### How are these variables represented in the 100 most streamed songs?\n",
    "\n",
    "##### Danceability:\n",
    "Danceability describes how suitable a track is for dancing based on a combination of musical elements including tempo, rhythm stability, beat strength, and overall regularity. A value of 0.0 is least danceable and 1.0 is most danceable.\n",
    "\n",
    "#### Valence: \n",
    "A measure from 0.0 to 1.0 describing the musical positiveness conveyed by a track. Tracks with high valence sound more positive (e.g. happy, cheerful, euphoric), while tracks with low valence sound more negative (e.g. sad, depressed, angry).\n",
    "\n",
    "Both of these variables are created using Spotify's own algorithms."
   ]
  },
  {
   "cell_type": "code",
   "execution_count": 1,
   "id": "8eda7b62",
   "metadata": {},
   "outputs": [
    {
     "data": {
      "text/html": [
       "<div>\n",
       "<style scoped>\n",
       "    .dataframe tbody tr th:only-of-type {\n",
       "        vertical-align: middle;\n",
       "    }\n",
       "\n",
       "    .dataframe tbody tr th {\n",
       "        vertical-align: top;\n",
       "    }\n",
       "\n",
       "    .dataframe thead th {\n",
       "        text-align: right;\n",
       "    }\n",
       "</style>\n",
       "<table border=\"1\" class=\"dataframe\">\n",
       "  <thead>\n",
       "    <tr style=\"text-align: right;\">\n",
       "      <th></th>\n",
       "      <th>danceability</th>\n",
       "      <th>valence</th>\n",
       "    </tr>\n",
       "  </thead>\n",
       "  <tbody>\n",
       "    <tr>\n",
       "      <th>count</th>\n",
       "      <td>100.000000</td>\n",
       "      <td>100.000000</td>\n",
       "    </tr>\n",
       "    <tr>\n",
       "      <th>mean</th>\n",
       "      <td>0.669580</td>\n",
       "      <td>0.499670</td>\n",
       "    </tr>\n",
       "    <tr>\n",
       "      <th>std</th>\n",
       "      <td>0.136443</td>\n",
       "      <td>0.216499</td>\n",
       "    </tr>\n",
       "    <tr>\n",
       "      <th>min</th>\n",
       "      <td>0.351000</td>\n",
       "      <td>0.059000</td>\n",
       "    </tr>\n",
       "    <tr>\n",
       "      <th>25%</th>\n",
       "      <td>0.588000</td>\n",
       "      <td>0.338500</td>\n",
       "    </tr>\n",
       "    <tr>\n",
       "      <th>50%</th>\n",
       "      <td>0.689000</td>\n",
       "      <td>0.481500</td>\n",
       "    </tr>\n",
       "    <tr>\n",
       "      <th>75%</th>\n",
       "      <td>0.765000</td>\n",
       "      <td>0.662250</td>\n",
       "    </tr>\n",
       "    <tr>\n",
       "      <th>max</th>\n",
       "      <td>0.921000</td>\n",
       "      <td>0.931000</td>\n",
       "    </tr>\n",
       "  </tbody>\n",
       "</table>\n",
       "</div>"
      ],
      "text/plain": [
       "       danceability     valence\n",
       "count    100.000000  100.000000\n",
       "mean       0.669580    0.499670\n",
       "std        0.136443    0.216499\n",
       "min        0.351000    0.059000\n",
       "25%        0.588000    0.338500\n",
       "50%        0.689000    0.481500\n",
       "75%        0.765000    0.662250\n",
       "max        0.921000    0.931000"
      ]
     },
     "execution_count": 1,
     "metadata": {},
     "output_type": "execute_result"
    }
   ],
   "source": [
    "# Import relevant libraries\n",
    "import pandas as pd\n",
    "import matplotlib.pyplot as plt\n",
    "import numpy as np\n",
    "import scipy.stats as stats\n",
    "import seaborn as sns\n",
    "from scipy.stats import linregress\n",
    "\n",
    "# Grab the spotify data file and describe relevant columns\n",
    "df = pd.read_csv(\"spotify-data.csv\", converters ={'artist_genres':eval})\n",
    "df[[\"danceability\", \"valence\"]].describe()"
   ]
  },
  {
   "cell_type": "markdown",
   "id": "f0238df3",
   "metadata": {},
   "source": [
    "Both values are on a scale of 0 to 1, so their metrics can be compared:\n",
    " - The danceability metrics (mean: 0.67, median: 0.69) are higher than the valence (mean: 0.50, median: 0.48)\n",
    " - As the mean & median values for each variable is very similar, this suggests that the data is evenly spread/symmetrical\n",
    " \n",
    "A boxplot explains the distribution further:"
   ]
  },
  {
   "cell_type": "code",
   "execution_count": 2,
   "id": "06c2af4b",
   "metadata": {},
   "outputs": [
    {
     "data": {
      "image/png": "[encoded data removed]",
      "text/plain": [
       "<Figure size 432x288 with 1 Axes>"
      ]
     },
     "metadata": {
      "needs_background": "light"
     },
     "output_type": "display_data"
    }
   ],
   "source": [
    "# Boxplot to explore the Danceability & Valence of the top songs\n",
    "danceability = list(df.danceability)\n",
    "valence = list(df.valence)\n",
    "plt.boxplot([danceability, valence], labels=[\"Danceability\", \"Valence\"])\n",
    "plt.ylim(0, 1)\n",
    "plt.ylabel(\"Value\")\n",
    "plt.xlabel(\"Metric\")\n",
    "plt.title(\"Danceability & Valence Box Plots\")\n",
    "plt.show()"
   ]
  },
  {
   "cell_type": "markdown",
   "id": "11f9f9ee",
   "metadata": {},
   "source": [
    " - The whisker distribution of the danceability plot suggests that the top streamed songs are more danceable (min: 0.35)\n",
    " - However, valence is much more varied. A popular song does not necessarily need to be a happy one"
   ]
  },
  {
   "cell_type": "code",
   "execution_count": 3,
   "id": "63e78b70",
   "metadata": {},
   "outputs": [
    {
     "data": {
      "text/plain": [
       "<matplotlib.legend.Legend at 0x26a1f37c3d0>"
      ]
     },
     "execution_count": 3,
     "metadata": {},
     "output_type": "execute_result"
    },
    {
     "data": {
      "image/png": "[encoded data removed]",
      "text/plain": [
       "<Figure size 432x288 with 1 Axes>"
      ]
     },
     "metadata": {
      "needs_background": "light"
     },
     "output_type": "display_data"
    }
   ],
   "source": [
    "population1 = danceability\n",
    "population2 = valence\n",
    "\n",
    "# Histogram Plot of Data\n",
    "plt.subplot(2, 1, 2)\n",
    "plt.hist(population1, alpha=0.7, label=\"Danceability\")\n",
    "plt.hist(population2, alpha=0.7, label=\"Valence\")\n",
    "plt.xlim(0,1)\n",
    "plt.legend()"
   ]
  },
  {
   "cell_type": "markdown",
   "id": "f7b31bbb",
   "metadata": {},
   "source": [
    "A histogram can also explain the distribution of the two variables. As mentioned above, the similar mean and median shows a fairly symmetrical distrubition for each variable. Valence peaks around 0.4, whereas danceability peaks around 0.8.\n",
    "\n",
    "The next step is to confirm whether danceability and valence are correlated in any way. It would be expected that the happier a song sounds, the more danceable it would be."
   ]
  },
  {
   "cell_type": "code",
   "execution_count": 4,
   "id": "af0966c1",
   "metadata": {},
   "outputs": [
    {
     "name": "stdout",
     "output_type": "stream",
     "text": [
      "R squared: 0.24273631673402907\n",
      "R value: 0.49268277495162044\n"
     ]
    },
    {
     "data": {
      "image/png": "[encoded data removed]",
      "text/plain": [
       "<Figure size 432x288 with 1 Axes>"
      ]
     },
     "metadata": {
      "needs_background": "light"
     },
     "output_type": "display_data"
    }
   ],
   "source": [
    "# Create x and y values\n",
    "x_values = df[\"danceability\"]\n",
    "y_values = df[\"valence\"]\n",
    "\n",
    "# Run linear regression\n",
    "(slope, intercept, rvalue, pvalue, stderr) = linregress(x_values, y_values)\n",
    "regress_values = x_values * slope + intercept\n",
    "line_eq = \"y = \" + str(round(slope,2)) + \"x + \" + str(round(intercept,2))\n",
    "\n",
    "# Plot scatter plot\n",
    "plt.scatter(x_values,y_values)\n",
    "\n",
    "# Plot regression line\n",
    "plt.plot(x_values,regress_values,\"r-\")\n",
    "plt.annotate(line_eq,(x_values.min(),y_values.min()),fontsize=15,color=\"red\")\n",
    "\n",
    "# Label plot\n",
    "plt.xlabel(\"Danceability\")\n",
    "plt.ylabel(\"Valence\")\n",
    "plt.title(\"Danceability vs. Valence\")\n",
    "plt.ylim(0, 1)\n",
    "plt.xlim(0, 1)\n",
    "\n",
    "# Print r square value\n",
    "print(f\"R squared: {rvalue**2}\")\n",
    "print(f\"R value: {rvalue}\")\n",
    "\n",
    "# Show and save plot\n",
    "plt.show()"
   ]
  },
  {
   "cell_type": "markdown",
   "id": "62d1e0ca",
   "metadata": {},
   "source": [
    "As expected, as the danceability level rises so does the valence, however only with a correlation of 0.49 (a moderate correlation). An r-squared value of 0.24 shows that a linear regression does not strongly fit this distribution.\n",
    "\n",
    "Examples of songs that don't fit the line:\n",
    " - High Valence, Low Danceability: Shawn Mendes - Treat You Better (Danceability: 0.44, Valence: 0.75)\n",
    " - High Danceability, Low Valence: Kendrick Lamar - HUMBLE. (Danceability: 0.91, Valence: 0.42)\n",
    " \n",
    "Examples of songs that fit the model well:\n",
    " - Low Valence, Low Danceability: Billie Eilish - when the party's over (Danceability: 0.37, Valence: 0.20)\n",
    " - High Valence, High Danceability: XXXTENTACION - Moonlight (Danceability: 0.90, Valence: 0.71)"
   ]
  }
 ],
 "metadata": {
  "kernelspec": {
   "display_name": "Python 3",
   "language": "python",
   "name": "python3"
  },
  "language_info": {
   "codemirror_mode": {
    "name": "ipython",
    "version": 3
   },
   "file_extension": ".py",
   "mimetype": "text/x-python",
   "name": "python",
   "nbconvert_exporter": "python",
   "pygments_lexer": "ipython3",
   "version": "3.8.8"
  }
 },
 "nbformat": 4,
 "nbformat_minor": 5
}
