{
 "cells": [
  {
   "cell_type": "code",
   "execution_count": null,
   "id": "8260547c",
   "metadata": {},
   "outputs": [],
   "source": [
    "cid = '86a003c586c747bdbb249dec0a407a21'\n",
    "secret = 'Hello2010.'"
   ]
  }
 ],
 "metadata": {
  "kernelspec": {
   "display_name": "Python 3",
   "language": "python",
   "name": "python3"
  },
  "language_info": {
   "codemirror_mode": {
    "name": "ipython",
    "version": 3
   },
   "file_extension": ".py",
   "mimetype": "text/x-python",
   "name": "python",
   "nbconvert_exporter": "python",
   "pygments_lexer": "ipython3",
   "version": "3.8.8"
  }
 },
 "nbformat": 4,
 "nbformat_minor": 5
}
