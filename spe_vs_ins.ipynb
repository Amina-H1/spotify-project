{
 "cells": [
  {
   "cell_type": "code",
   "execution_count": 1,
   "id": "be2dceb9",
   "metadata": {},
   "outputs": [],
   "source": [
    "from matplotlib import pyplot as plt\n",
    "import numpy as np\n",
    "import pandas as pd\n",
    "from scipy.stats import linregress\n",
    "import scipy.stats as sts"
   ]
  },
  {
   "cell_type": "code",
   "execution_count": 2,
   "id": "c4fbdfaa",
   "metadata": {
    "scrolled": true
   },
   "outputs": [
    {
     "data": {
      "text/html": [
       "<div>\n",
       "<style scoped>\n",
       "    .dataframe tbody tr th:only-of-type {\n",
       "        vertical-align: middle;\n",
       "    }\n",
       "\n",
       "    .dataframe tbody tr th {\n",
       "        vertical-align: top;\n",
       "    }\n",
       "\n",
       "    .dataframe thead th {\n",
       "        text-align: right;\n",
       "    }\n",
       "</style>\n",
       "<table border=\"1\" class=\"dataframe\">\n",
       "  <thead>\n",
       "    <tr style=\"text-align: right;\">\n",
       "      <th></th>\n",
       "      <th>artist_name</th>\n",
       "      <th>artist_genres</th>\n",
       "      <th>album_id</th>\n",
       "      <th>album_name</th>\n",
       "      <th>track_id</th>\n",
       "      <th>track_name</th>\n",
       "      <th>streams (millions)</th>\n",
       "      <th>popularity</th>\n",
       "      <th>release_date</th>\n",
       "      <th>markets</th>\n",
       "      <th>...</th>\n",
       "      <th>liveness</th>\n",
       "      <th>loudness</th>\n",
       "      <th>mode</th>\n",
       "      <th>speechiness</th>\n",
       "      <th>tempo</th>\n",
       "      <th>time_signature</th>\n",
       "      <th>track_href</th>\n",
       "      <th>type</th>\n",
       "      <th>uri</th>\n",
       "      <th>valence</th>\n",
       "    </tr>\n",
       "  </thead>\n",
       "  <tbody>\n",
       "    <tr>\n",
       "      <th>0</th>\n",
       "      <td>Ed Sheeran</td>\n",
       "      <td>['pop', 'uk pop']</td>\n",
       "      <td>3T4tUhGYeRNVUGevb0wThu</td>\n",
       "      <td>÷ (Deluxe)</td>\n",
       "      <td>7qiZfU4dY1lWllzX7mPBI3</td>\n",
       "      <td>Shape of You</td>\n",
       "      <td>2,989</td>\n",
       "      <td>87</td>\n",
       "      <td>2017-03-03</td>\n",
       "      <td>['AD', 'AE', 'AG', 'AL', 'AM', 'AO', 'AR', 'AT...</td>\n",
       "      <td>...</td>\n",
       "      <td>0.0931</td>\n",
       "      <td>-3.183</td>\n",
       "      <td>0.0</td>\n",
       "      <td>0.0802</td>\n",
       "      <td>95.977</td>\n",
       "      <td>4.0</td>\n",
       "      <td>https://api.spotify.com/v1/tracks/7qiZfU4dY1lW...</td>\n",
       "      <td>audio_features</td>\n",
       "      <td>spotify:track:7qiZfU4dY1lWllzX7mPBI3</td>\n",
       "      <td>0.931</td>\n",
       "    </tr>\n",
       "    <tr>\n",
       "      <th>1</th>\n",
       "      <td>The Weeknd</td>\n",
       "      <td>['canadian contemporary r&amp;b', 'canadian pop', ...</td>\n",
       "      <td>4yP0hdKOZPNshxUOjY0cZj</td>\n",
       "      <td>After Hours</td>\n",
       "      <td>0VjIjW4GlUZAMYd2vXMi3b</td>\n",
       "      <td>Blinding Lights</td>\n",
       "      <td>2,673</td>\n",
       "      <td>93</td>\n",
       "      <td>2020-03-20</td>\n",
       "      <td>['AD', 'AE', 'AG', 'AL', 'AM', 'AO', 'AR', 'AT...</td>\n",
       "      <td>...</td>\n",
       "      <td>0.0897</td>\n",
       "      <td>-5.934</td>\n",
       "      <td>1.0</td>\n",
       "      <td>0.0598</td>\n",
       "      <td>171.005</td>\n",
       "      <td>4.0</td>\n",
       "      <td>https://api.spotify.com/v1/tracks/0VjIjW4GlUZA...</td>\n",
       "      <td>audio_features</td>\n",
       "      <td>spotify:track:0VjIjW4GlUZAMYd2vXMi3b</td>\n",
       "      <td>0.334</td>\n",
       "    </tr>\n",
       "    <tr>\n",
       "      <th>2</th>\n",
       "      <td>Tones And I</td>\n",
       "      <td>['australian pop', 'pop']</td>\n",
       "      <td>0UywfDKYlyiu1b38DRrzYD</td>\n",
       "      <td>Dance Monkey (Stripped Back) / Dance Monkey</td>\n",
       "      <td>2XU0oxnq2qxCpomAAuJY8K</td>\n",
       "      <td>Dance Monkey</td>\n",
       "      <td>2,425</td>\n",
       "      <td>82</td>\n",
       "      <td>2019-10-17</td>\n",
       "      <td>['AD', 'AE', 'AG', 'AL', 'AM', 'AO', 'AR', 'AT...</td>\n",
       "      <td>...</td>\n",
       "      <td>0.1490</td>\n",
       "      <td>-6.400</td>\n",
       "      <td>0.0</td>\n",
       "      <td>0.0924</td>\n",
       "      <td>98.027</td>\n",
       "      <td>4.0</td>\n",
       "      <td>https://api.spotify.com/v1/tracks/2XU0oxnq2qxC...</td>\n",
       "      <td>audio_features</td>\n",
       "      <td>spotify:track:2XU0oxnq2qxCpomAAuJY8K</td>\n",
       "      <td>0.513</td>\n",
       "    </tr>\n",
       "    <tr>\n",
       "      <th>3</th>\n",
       "      <td>Post Malone</td>\n",
       "      <td>['dfw rap', 'melodic rap', 'rap']</td>\n",
       "      <td>6trNtQUgC8cgbWcqoMYkOR</td>\n",
       "      <td>beerbongs &amp; bentleys</td>\n",
       "      <td>0e7ipj03S05BNilyu5bRzt</td>\n",
       "      <td>rockstar (feat. 21 Savage)</td>\n",
       "      <td>2,312</td>\n",
       "      <td>85</td>\n",
       "      <td>2018-04-27</td>\n",
       "      <td>['AD', 'AE', 'AG', 'AL', 'AM', 'AO', 'AR', 'AT...</td>\n",
       "      <td>...</td>\n",
       "      <td>0.1310</td>\n",
       "      <td>-6.136</td>\n",
       "      <td>0.0</td>\n",
       "      <td>0.0712</td>\n",
       "      <td>159.801</td>\n",
       "      <td>4.0</td>\n",
       "      <td>https://api.spotify.com/v1/tracks/0e7ipj03S05B...</td>\n",
       "      <td>audio_features</td>\n",
       "      <td>spotify:track:0e7ipj03S05BNilyu5bRzt</td>\n",
       "      <td>0.129</td>\n",
       "    </tr>\n",
       "    <tr>\n",
       "      <th>4</th>\n",
       "      <td>Lewis Capaldi</td>\n",
       "      <td>['pop', 'uk pop']</td>\n",
       "      <td>5658aM19fA3JVwTK6eQX70</td>\n",
       "      <td>Divinely Uninspired To A Hellish Extent</td>\n",
       "      <td>7qEHsqek33rTcFNT9PFqLf</td>\n",
       "      <td>Someone You Loved</td>\n",
       "      <td>2,182</td>\n",
       "      <td>88</td>\n",
       "      <td>2019-05-17</td>\n",
       "      <td>['AD', 'AE', 'AG', 'AL', 'AM', 'AO', 'AR', 'AT...</td>\n",
       "      <td>...</td>\n",
       "      <td>0.1050</td>\n",
       "      <td>-5.679</td>\n",
       "      <td>1.0</td>\n",
       "      <td>0.0319</td>\n",
       "      <td>109.891</td>\n",
       "      <td>4.0</td>\n",
       "      <td>https://api.spotify.com/v1/tracks/7qEHsqek33rT...</td>\n",
       "      <td>audio_features</td>\n",
       "      <td>spotify:track:7qEHsqek33rTcFNT9PFqLf</td>\n",
       "      <td>0.446</td>\n",
       "    </tr>\n",
       "  </tbody>\n",
       "</table>\n",
       "<p>5 rows × 28 columns</p>\n",
       "</div>"
      ],
      "text/plain": [
       "     artist_name                                      artist_genres  \\\n",
       "0     Ed Sheeran                                  ['pop', 'uk pop']   \n",
       "1     The Weeknd  ['canadian contemporary r&b', 'canadian pop', ...   \n",
       "2    Tones And I                          ['australian pop', 'pop']   \n",
       "3    Post Malone                  ['dfw rap', 'melodic rap', 'rap']   \n",
       "4  Lewis Capaldi                                  ['pop', 'uk pop']   \n",
       "\n",
       "                 album_id                                   album_name  \\\n",
       "0  3T4tUhGYeRNVUGevb0wThu                                   ÷ (Deluxe)   \n",
       "1  4yP0hdKOZPNshxUOjY0cZj                                  After Hours   \n",
       "2  0UywfDKYlyiu1b38DRrzYD  Dance Monkey (Stripped Back) / Dance Monkey   \n",
       "3  6trNtQUgC8cgbWcqoMYkOR                         beerbongs & bentleys   \n",
       "4  5658aM19fA3JVwTK6eQX70      Divinely Uninspired To A Hellish Extent   \n",
       "\n",
       "                 track_id                  track_name streams (millions)  \\\n",
       "0  7qiZfU4dY1lWllzX7mPBI3                Shape of You              2,989   \n",
       "1  0VjIjW4GlUZAMYd2vXMi3b             Blinding Lights              2,673   \n",
       "2  2XU0oxnq2qxCpomAAuJY8K                Dance Monkey              2,425   \n",
       "3  0e7ipj03S05BNilyu5bRzt  rockstar (feat. 21 Savage)              2,312   \n",
       "4  7qEHsqek33rTcFNT9PFqLf           Someone You Loved              2,182   \n",
       "\n",
       "   popularity release_date                                            markets  \\\n",
       "0          87   2017-03-03  ['AD', 'AE', 'AG', 'AL', 'AM', 'AO', 'AR', 'AT...   \n",
       "1          93   2020-03-20  ['AD', 'AE', 'AG', 'AL', 'AM', 'AO', 'AR', 'AT...   \n",
       "2          82   2019-10-17  ['AD', 'AE', 'AG', 'AL', 'AM', 'AO', 'AR', 'AT...   \n",
       "3          85   2018-04-27  ['AD', 'AE', 'AG', 'AL', 'AM', 'AO', 'AR', 'AT...   \n",
       "4          88   2019-05-17  ['AD', 'AE', 'AG', 'AL', 'AM', 'AO', 'AR', 'AT...   \n",
       "\n",
       "   ...  liveness  loudness mode  speechiness    tempo  time_signature  \\\n",
       "0  ...    0.0931    -3.183  0.0       0.0802   95.977             4.0   \n",
       "1  ...    0.0897    -5.934  1.0       0.0598  171.005             4.0   \n",
       "2  ...    0.1490    -6.400  0.0       0.0924   98.027             4.0   \n",
       "3  ...    0.1310    -6.136  0.0       0.0712  159.801             4.0   \n",
       "4  ...    0.1050    -5.679  1.0       0.0319  109.891             4.0   \n",
       "\n",
       "                                          track_href            type  \\\n",
       "0  https://api.spotify.com/v1/tracks/7qiZfU4dY1lW...  audio_features   \n",
       "1  https://api.spotify.com/v1/tracks/0VjIjW4GlUZA...  audio_features   \n",
       "2  https://api.spotify.com/v1/tracks/2XU0oxnq2qxC...  audio_features   \n",
       "3  https://api.spotify.com/v1/tracks/0e7ipj03S05B...  audio_features   \n",
       "4  https://api.spotify.com/v1/tracks/7qEHsqek33rT...  audio_features   \n",
       "\n",
       "                                    uri  valence  \n",
       "0  spotify:track:7qiZfU4dY1lWllzX7mPBI3    0.931  \n",
       "1  spotify:track:0VjIjW4GlUZAMYd2vXMi3b    0.334  \n",
       "2  spotify:track:2XU0oxnq2qxCpomAAuJY8K    0.513  \n",
       "3  spotify:track:0e7ipj03S05BNilyu5bRzt    0.129  \n",
       "4  spotify:track:7qEHsqek33rTcFNT9PFqLf    0.446  \n",
       "\n",
       "[5 rows x 28 columns]"
      ]
     },
     "execution_count": 2,
     "metadata": {},
     "output_type": "execute_result"
    }
   ],
   "source": [
    "# import data scv\n",
    "data = pd.read_csv('spotify-data.csv')\n",
    "data.head()"
   ]
  },
  {
   "cell_type": "code",
   "execution_count": 3,
   "id": "4cd9954c",
   "metadata": {},
   "outputs": [
    {
     "data": {
      "text/html": [
       "<div>\n",
       "<style scoped>\n",
       "    .dataframe tbody tr th:only-of-type {\n",
       "        vertical-align: middle;\n",
       "    }\n",
       "\n",
       "    .dataframe tbody tr th {\n",
       "        vertical-align: top;\n",
       "    }\n",
       "\n",
       "    .dataframe thead th {\n",
       "        text-align: right;\n",
       "    }\n",
       "</style>\n",
       "<table border=\"1\" class=\"dataframe\">\n",
       "  <thead>\n",
       "    <tr style=\"text-align: right;\">\n",
       "      <th></th>\n",
       "      <th>track_id</th>\n",
       "      <th>streams (millions)</th>\n",
       "      <th>energy</th>\n",
       "      <th>tempo</th>\n",
       "      <th>acousticness</th>\n",
       "    </tr>\n",
       "  </thead>\n",
       "  <tbody>\n",
       "    <tr>\n",
       "      <th>1</th>\n",
       "      <td>7qiZfU4dY1lWllzX7mPBI3</td>\n",
       "      <td>2,989</td>\n",
       "      <td>0.652</td>\n",
       "      <td>95.977</td>\n",
       "      <td>0.58100</td>\n",
       "    </tr>\n",
       "    <tr>\n",
       "      <th>2</th>\n",
       "      <td>0VjIjW4GlUZAMYd2vXMi3b</td>\n",
       "      <td>2,673</td>\n",
       "      <td>0.730</td>\n",
       "      <td>171.005</td>\n",
       "      <td>0.00146</td>\n",
       "    </tr>\n",
       "    <tr>\n",
       "      <th>3</th>\n",
       "      <td>2XU0oxnq2qxCpomAAuJY8K</td>\n",
       "      <td>2,425</td>\n",
       "      <td>0.588</td>\n",
       "      <td>98.027</td>\n",
       "      <td>0.69200</td>\n",
       "    </tr>\n",
       "    <tr>\n",
       "      <th>4</th>\n",
       "      <td>0e7ipj03S05BNilyu5bRzt</td>\n",
       "      <td>2,312</td>\n",
       "      <td>0.520</td>\n",
       "      <td>159.801</td>\n",
       "      <td>0.12400</td>\n",
       "    </tr>\n",
       "    <tr>\n",
       "      <th>5</th>\n",
       "      <td>7qEHsqek33rTcFNT9PFqLf</td>\n",
       "      <td>2,182</td>\n",
       "      <td>0.405</td>\n",
       "      <td>109.891</td>\n",
       "      <td>0.75100</td>\n",
       "    </tr>\n",
       "  </tbody>\n",
       "</table>\n",
       "</div>"
      ],
      "text/plain": [
       "                 track_id streams (millions)  energy    tempo  acousticness\n",
       "1  7qiZfU4dY1lWllzX7mPBI3              2,989   0.652   95.977       0.58100\n",
       "2  0VjIjW4GlUZAMYd2vXMi3b              2,673   0.730  171.005       0.00146\n",
       "3  2XU0oxnq2qxCpomAAuJY8K              2,425   0.588   98.027       0.69200\n",
       "4  0e7ipj03S05BNilyu5bRzt              2,312   0.520  159.801       0.12400\n",
       "5  7qEHsqek33rTcFNT9PFqLf              2,182   0.405  109.891       0.75100"
      ]
     },
     "execution_count": 3,
     "metadata": {},
     "output_type": "execute_result"
    }
   ],
   "source": [
    "df = data[['track_id','streams (millions)', 'energy', 'tempo', 'acousticness']]\n",
    "df.index += 1\n",
    "df.head()"
   ]
  },
  {
   "cell_type": "code",
   "execution_count": 4,
   "id": "2ed68312",
   "metadata": {},
   "outputs": [
    {
     "data": {
      "text/plain": [
       "0.922"
      ]
     },
     "execution_count": 4,
     "metadata": {},
     "output_type": "execute_result"
    }
   ],
   "source": [
    "energy = df['energy']\n",
    "energy.max()"
   ]
  },
  {
   "cell_type": "code",
   "execution_count": 5,
   "id": "352b16b6",
   "metadata": {},
   "outputs": [
    {
     "data": {
      "text/plain": [
       "186.003"
      ]
     },
     "execution_count": 5,
     "metadata": {},
     "output_type": "execute_result"
    }
   ],
   "source": [
    "tempo = df['tempo']\n",
    "tempo.max()"
   ]
  },
  {
   "cell_type": "code",
   "execution_count": 24,
   "id": "aec39336",
   "metadata": {},
   "outputs": [
    {
     "name": "stdout",
     "output_type": "stream",
     "text": [
      "The r-squared is: 0.08377138532967249\n",
      "The r value is: 0.2894328684335497\n"
     ]
    },
    {
     "data": {
      "image/png": "[encoded data removed]",
      "text/plain": [
       "<Figure size 432x288 with 1 Axes>"
      ]
     },
     "metadata": {
      "needs_background": "light"
     },
     "output_type": "display_data"
    }
   ],
   "source": [
    "plt.scatter(df.tempo, df.energy , marker=\"o\", facecolors=\"blue\", edgecolors=\"black\")\n",
    "plt.xlim([0, 200])\n",
    "plt.ylim([0, 1])\n",
    "plt.xlabel('Tempo  (bpm)')\n",
    "plt.ylabel('Energy')\n",
    "plt.title('Energy and Tempo in Top 100 Streamed Songs')\n",
    "slope, intercept, rvalue, pvalue, stderr = linregress(tempo, energy)\n",
    "regression = tempo * slope + intercept\n",
    "line_eq = \"y = \" + str(round(slope,2)) + \"x + \" + str(round(intercept,2))\n",
    "plt.plot(tempo, regression, \"r-\")\n",
    "plt.annotate(line_eq,(5,0.2),fontsize=15,color=\"red\")\n",
    "print(f\"The r-squared is: {rvalue**2}\")\n",
    "print(f\"The r value is: {rvalue}\")\n",
    "\n",
    "plt.savefig('data_images/EandT.png')"
   ]
  },
  {
   "cell_type": "code",
   "execution_count": 7,
   "id": "38583875",
   "metadata": {},
   "outputs": [
    {
     "data": {
      "text/plain": [
       "Ttest_indResult(statistic=41.80041813512385, pvalue=3.4423777642815473e-100)"
      ]
     },
     "execution_count": 7,
     "metadata": {},
     "output_type": "execute_result"
    }
   ],
   "source": [
    "sts.ttest_ind(tempo,energy)"
   ]
  },
  {
   "cell_type": "code",
   "execution_count": 8,
   "id": "f758ef70",
   "metadata": {
    "scrolled": true
   },
   "outputs": [
    {
     "data": {
      "image/png": "[encoded data removed]",
      "text/plain": [
       "<Figure size 432x288 with 1 Axes>"
      ]
     },
     "metadata": {
      "needs_background": "light"
     },
     "output_type": "display_data"
    },
    {
     "data": {
      "text/plain": [
       "<Figure size 432x288 with 0 Axes>"
      ]
     },
     "metadata": {},
     "output_type": "display_data"
    }
   ],
   "source": [
    "fig1, ax1 = plt.subplots()\n",
    "ax1.set_title('Tempo of Top 100 Streamed Songs')\n",
    "ax1.set_ylabel('Tempo (bpm)')\n",
    "ax1.boxplot(tempo)\n",
    "plt.ylim([0, 200])\n",
    "plt.grid()\n",
    "plt.show()\n",
    "\n",
    "plt.savefig('data_images/Tempo.png')"
   ]
  },
  {
   "cell_type": "code",
   "execution_count": 9,
   "id": "45707782",
   "metadata": {},
   "outputs": [
    {
     "name": "stdout",
     "output_type": "stream",
     "text": [
      "The lower quartile of tempo is: 95.305\n",
      "The upper quartile of tempo is: 136.041\n",
      "The interquartile range of tempo is: 40.73599999999999\n",
      "The the median of tempo is: 115.136 \n",
      "Values below 34.20100000000002 could be outliers.\n",
      "Values above 197.14499999999998 could be outliers.\n"
     ]
    }
   ],
   "source": [
    "quartiles = tempo.quantile([.25,.5,.75])\n",
    "lowerq = quartiles[.25]\n",
    "upperq = quartiles[.75]\n",
    "iqr = upperq-lowerq\n",
    "lower_bound = lowerq - (1.5*iqr)\n",
    "upper_bound = upperq + (1.5*iqr)\n",
    "\n",
    "\n",
    "print(f\"The lower quartile of tempo is: {lowerq}\")\n",
    "print(f\"The upper quartile of tempo is: {upperq}\")\n",
    "print(f\"The interquartile range of tempo is: {iqr}\")\n",
    "print(f\"The the median of tempo is: {quartiles[0.5]} \")\n",
    "print(f\"Values below {lower_bound} could be outliers.\")\n",
    "print(f\"Values above {upper_bound} could be outliers.\")"
   ]
  },
  {
   "cell_type": "code",
   "execution_count": 10,
   "id": "ed166ee6",
   "metadata": {},
   "outputs": [
    {
     "data": {
      "image/png": "[encoded data removed]",
      "text/plain": [
       "<Figure size 432x288 with 1 Axes>"
      ]
     },
     "metadata": {
      "needs_background": "light"
     },
     "output_type": "display_data"
    },
    {
     "data": {
      "text/plain": [
       "<Figure size 432x288 with 0 Axes>"
      ]
     },
     "metadata": {},
     "output_type": "display_data"
    }
   ],
   "source": [
    "fig1, ax1 = plt.subplots()\n",
    "ax1.set_title('Energy of Top 100 Streamed Songs')\n",
    "ax1.set_ylabel('Energy')\n",
    "ax1.boxplot(energy)\n",
    "plt.ylim([0, 1])\n",
    "plt.grid()\n",
    "plt.show()\n",
    "\n",
    "plt.savefig('data_images/Energy.png')"
   ]
  },
  {
   "cell_type": "code",
   "execution_count": 11,
   "id": "b14c6621",
   "metadata": {},
   "outputs": [
    {
     "name": "stdout",
     "output_type": "stream",
     "text": [
      "The lower quartile of energy is: 0.5215000000000001\n",
      "The upper quartile of energy is: 0.7555000000000001\n",
      "The interquartile range of energy is: 0.23399999999999999\n",
      "The the median of energy is: 0.636 \n",
      "Values below 0.1705000000000001 could be outliers.\n",
      "Values above 1.1065 could be outliers.\n"
     ]
    }
   ],
   "source": [
    "quartiles = energy.quantile([.25,.5,.75])\n",
    "lowerq = quartiles[0.25]\n",
    "upperq = quartiles[0.75]\n",
    "iqr = upperq-lowerq\n",
    "lower_bound = lowerq - (1.5*iqr)\n",
    "upper_bound = upperq + (1.5*iqr)\n",
    "\n",
    "print(f\"The lower quartile of energy is: {lowerq}\")\n",
    "print(f\"The upper quartile of energy is: {upperq}\")\n",
    "print(f\"The interquartile range of energy is: {iqr}\")\n",
    "print(f\"The the median of energy is: {quartiles[0.5]} \")\n",
    "print(f\"Values below {lower_bound} could be outliers.\")\n",
    "print(f\"Values above {upper_bound} could be outliers.\")"
   ]
  },
  {
   "cell_type": "code",
   "execution_count": 12,
   "id": "e38615e1",
   "metadata": {},
   "outputs": [
    {
     "data": {
      "text/plain": [
       "Ttest_indResult(statistic=-41.80041813512385, pvalue=3.4423777642815473e-100)"
      ]
     },
     "execution_count": 12,
     "metadata": {},
     "output_type": "execute_result"
    }
   ],
   "source": [
    "sts.ttest_ind(energy,tempo)"
   ]
  },
  {
   "cell_type": "code",
   "execution_count": 13,
   "id": "2bf2cff1",
   "metadata": {},
   "outputs": [
    {
     "data": {
      "text/plain": [
       "0.922"
      ]
     },
     "execution_count": 13,
     "metadata": {},
     "output_type": "execute_result"
    }
   ],
   "source": [
    "energy = df['energy']\n",
    "energy.max()"
   ]
  },
  {
   "cell_type": "code",
   "execution_count": 14,
   "id": "96c6e051",
   "metadata": {},
   "outputs": [
    {
     "data": {
      "text/plain": [
       "0.978"
      ]
     },
     "execution_count": 14,
     "metadata": {},
     "output_type": "execute_result"
    }
   ],
   "source": [
    "acousticness = df['acousticness']\n",
    "acousticness.max()"
   ]
  },
  {
   "cell_type": "code",
   "execution_count": 27,
   "id": "288f5e16",
   "metadata": {},
   "outputs": [
    {
     "name": "stdout",
     "output_type": "stream",
     "text": [
      "The r-squared is: 0.5028258200105351\n",
      "The r value is: -0.7091021224129392\n"
     ]
    },
    {
     "data": {
      "image/png": "[encoded data removed]",
      "text/plain": [
       "<Figure size 432x288 with 1 Axes>"
      ]
     },
     "metadata": {
      "needs_background": "light"
     },
     "output_type": "display_data"
    }
   ],
   "source": [
    "plt.scatter(df.energy, df.acousticness , marker=\"o\", facecolors=\"blue\", edgecolors=\"black\")\n",
    "plt.xlim([0, 1])\n",
    "plt.ylim([0, 1])\n",
    "plt.xlabel('Energy')\n",
    "plt.ylabel('Acousticness')\n",
    "plt.title('Energy vs Acousticness in Top 100 Streamed Songs')\n",
    "slope, intercept, rvalue, pvalue, stderr = linregress(energy, acousticness)\n",
    "regression = energy * slope + intercept\n",
    "line_eq = \"y = \" + str(round(slope,2)) + \"x + \" + str(round(intercept,2))\n",
    "plt.plot(energy, regression, \"r-\")\n",
    "plt.annotate(line_eq,(0.5,0.9),fontsize=15,color=\"red\")\n",
    "print(f\"The r-squared is: {rvalue**2}\")\n",
    "print(f\"The r value is: {rvalue}\")\n",
    "\n",
    "plt.savefig('data_images/EandA.png')"
   ]
  },
  {
   "cell_type": "code",
   "execution_count": 20,
   "id": "f155d695",
   "metadata": {},
   "outputs": [
    {
     "data": {
      "image/png": "[encoded data removed]",
      "text/plain": [
       "<Figure size 432x288 with 1 Axes>"
      ]
     },
     "metadata": {
      "needs_background": "light"
     },
     "output_type": "display_data"
    },
    {
     "data": {
      "text/plain": [
       "<Figure size 432x288 with 0 Axes>"
      ]
     },
     "metadata": {},
     "output_type": "display_data"
    }
   ],
   "source": [
    "fig1, ax1 = plt.subplots()\n",
    "ax1.set_title('Acousticness of Top 100 Streamed Songs')\n",
    "ax1.set_ylabel('Acousticness')\n",
    "ax1.boxplot(acousticness)\n",
    "plt.ylim([0,1])\n",
    "plt.grid()\n",
    "plt.show()\n",
    "\n",
    "plt.savefig('data_images/Acousticness.png')"
   ]
  }
 ],
 "metadata": {
  "kernelspec": {
   "display_name": "Python 3",
   "language": "python",
   "name": "python3"
  },
  "language_info": {
   "codemirror_mode": {
    "name": "ipython",
    "version": 3
   },
   "file_extension": ".py",
   "mimetype": "text/x-python",
   "name": "python",
   "nbconvert_exporter": "python",
   "pygments_lexer": "ipython3",
   "version": "3.8.8"
  }
 },
 "nbformat": 4,
 "nbformat_minor": 5
}
