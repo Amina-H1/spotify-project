{
 "cells": [
  {
   "cell_type": "code",
   "execution_count": 1,
   "id": "45ec01d5",
   "metadata": {},
   "outputs": [
    {
     "ename": "ModuleNotFoundError",
     "evalue": "No module named 'spotipy'",
     "output_type": "error",
     "traceback": [
      "\u001b[1;31m---------------------------------------------------------------------------\u001b[0m",
      "\u001b[1;31mModuleNotFoundError\u001b[0m                       Traceback (most recent call last)",
      "\u001b[1;32m<ipython-input-1-d739c289877c>\u001b[0m in \u001b[0;36m<module>\u001b[1;34m\u001b[0m\n\u001b[1;32m----> 1\u001b[1;33m \u001b[1;32mimport\u001b[0m \u001b[0mspotipy\u001b[0m\u001b[1;33m\u001b[0m\u001b[1;33m\u001b[0m\u001b[0m\n\u001b[0m\u001b[0;32m      2\u001b[0m \u001b[1;32mfrom\u001b[0m \u001b[0mspotipy\u001b[0m\u001b[1;33m.\u001b[0m\u001b[0moauth2\u001b[0m \u001b[1;32mimport\u001b[0m \u001b[0mSpotifyClientCredentials\u001b[0m\u001b[1;33m\u001b[0m\u001b[1;33m\u001b[0m\u001b[0m\n\u001b[0;32m      3\u001b[0m \u001b[1;33m\u001b[0m\u001b[0m\n\u001b[0;32m      4\u001b[0m \u001b[1;33m\u001b[0m\u001b[0m\n\u001b[0;32m      5\u001b[0m \u001b[0mclient_credentials_manager\u001b[0m \u001b[1;33m=\u001b[0m \u001b[0mSpotifyClientCredentials\u001b[0m\u001b[1;33m(\u001b[0m\u001b[0mclient_id\u001b[0m\u001b[1;33m=\u001b[0m\u001b[0mcid\u001b[0m\u001b[1;33m,\u001b[0m \u001b[0mclient_secret\u001b[0m\u001b[1;33m=\u001b[0m\u001b[0msecret\u001b[0m\u001b[1;33m)\u001b[0m\u001b[1;33m\u001b[0m\u001b[1;33m\u001b[0m\u001b[0m\n",
      "\u001b[1;31mModuleNotFoundError\u001b[0m: No module named 'spotipy'"
     ]
    }
   ],
   "source": [
    "import spotipy\n",
    "from spotipy.oauth2 import SpotifyClientCredentials\n",
    "from spotify_creds import cid\n",
    "from spotify_creds import secret\n",
    "\n",
    "client_credentials_manager = SpotifyClientCredentials(client_id=cid, client_secret=secret)\n",
    "sp = spotipy.Spotify(client_credentials_manager=client_credentials_manager)"
   ]
  },
  {
   "cell_type": "code",
   "execution_count": 16,
   "id": "5dc3cbcb",
   "metadata": {},
   "outputs": [],
   "source": [
    "artist_name = []\n",
    "track_name = []\n",
    "popularity = []\n",
    "track_id = []\n",
    "for i in range(0,1000,50):\n",
    "    track_results = sp.search(q='year:2021', type='track', limit=50,offset=i)\n",
    "    for i, t in enumerate(track_results['tracks']['items']):\n",
    "        artist_name.append(t['artists'][0]['name'])\n",
    "        track_name.append(t['name'])\n",
    "        track_id.append(t['id'])\n",
    "        popularity.append(t['popularity'])"
   ]
  },
  {
   "cell_type": "code",
   "execution_count": 17,
   "id": "00208a6b",
   "metadata": {},
   "outputs": [
    {
     "name": "stdout",
     "output_type": "stream",
     "text": [
      "(1000, 4)\n"
     ]
    },
    {
     "data": {
      "text/html": [
       "<div>\n",
       "<style scoped>\n",
       "    .dataframe tbody tr th:only-of-type {\n",
       "        vertical-align: middle;\n",
       "    }\n",
       "\n",
       "    .dataframe tbody tr th {\n",
       "        vertical-align: top;\n",
       "    }\n",
       "\n",
       "    .dataframe thead th {\n",
       "        text-align: right;\n",
       "    }\n",
       "</style>\n",
       "<table border=\"1\" class=\"dataframe\">\n",
       "  <thead>\n",
       "    <tr style=\"text-align: right;\">\n",
       "      <th></th>\n",
       "      <th>artist_name</th>\n",
       "      <th>track_name</th>\n",
       "      <th>track_id</th>\n",
       "      <th>popularity</th>\n",
       "    </tr>\n",
       "  </thead>\n",
       "  <tbody>\n",
       "    <tr>\n",
       "      <th>0</th>\n",
       "      <td>Adele</td>\n",
       "      <td>Easy On Me</td>\n",
       "      <td>0gplL1WMoJ6iYaPgMCL0gX</td>\n",
       "      <td>100</td>\n",
       "    </tr>\n",
       "    <tr>\n",
       "      <th>1</th>\n",
       "      <td>Mr.Kitty</td>\n",
       "      <td>Years - 2021 Remaster</td>\n",
       "      <td>4S4ZY1yKo3WUtzsg3O6hcf</td>\n",
       "      <td>20</td>\n",
       "    </tr>\n",
       "    <tr>\n",
       "      <th>2</th>\n",
       "      <td>Taylor Swift</td>\n",
       "      <td>All Too Well (10 Minute Version) (Taylor's Ver...</td>\n",
       "      <td>5enxwA8aAbwZbf5qCHORXi</td>\n",
       "      <td>95</td>\n",
       "    </tr>\n",
       "    <tr>\n",
       "      <th>3</th>\n",
       "      <td>Elvis Costello &amp; The Attractions</td>\n",
       "      <td>Pump It Up - 2021 Remaster</td>\n",
       "      <td>3oyc1mIdCBGaU55wX7otqM</td>\n",
       "      <td>63</td>\n",
       "    </tr>\n",
       "    <tr>\n",
       "      <th>4</th>\n",
       "      <td>Lil Nas X</td>\n",
       "      <td>INDUSTRY BABY (feat. Jack Harlow)</td>\n",
       "      <td>27NovPIUIRrOZoCHxABJwK</td>\n",
       "      <td>97</td>\n",
       "    </tr>\n",
       "    <tr>\n",
       "      <th>...</th>\n",
       "      <td>...</td>\n",
       "      <td>...</td>\n",
       "      <td>...</td>\n",
       "      <td>...</td>\n",
       "    </tr>\n",
       "    <tr>\n",
       "      <th>995</th>\n",
       "      <td>The Harvard Krokodiloes</td>\n",
       "      <td>The Lady is a Tramp</td>\n",
       "      <td>2axQIZzOe1sY5qeXtBoT53</td>\n",
       "      <td>1</td>\n",
       "    </tr>\n",
       "    <tr>\n",
       "      <th>996</th>\n",
       "      <td>John Mayer</td>\n",
       "      <td>New Light</td>\n",
       "      <td>4T6FWA703h6H7zk1FoSARw</td>\n",
       "      <td>78</td>\n",
       "    </tr>\n",
       "    <tr>\n",
       "      <th>997</th>\n",
       "      <td>Tears For Fears</td>\n",
       "      <td>Everybody Wants To Rule The World</td>\n",
       "      <td>4qyMZZIKE7Qka9hrnE0ikK</td>\n",
       "      <td>8</td>\n",
       "    </tr>\n",
       "    <tr>\n",
       "      <th>998</th>\n",
       "      <td>Ed Sheeran</td>\n",
       "      <td>Merry Christmas</td>\n",
       "      <td>3bH2Eu9A9ymI4UnGHRmoXg</td>\n",
       "      <td>76</td>\n",
       "    </tr>\n",
       "    <tr>\n",
       "      <th>999</th>\n",
       "      <td>R.E.M.</td>\n",
       "      <td>Man On The Moon</td>\n",
       "      <td>5tw3Q1rAkiVN8wh0Ie9aWq</td>\n",
       "      <td>6</td>\n",
       "    </tr>\n",
       "  </tbody>\n",
       "</table>\n",
       "<p>1000 rows × 4 columns</p>\n",
       "</div>"
      ],
      "text/plain": [
       "                          artist_name  \\\n",
       "0                               Adele   \n",
       "1                            Mr.Kitty   \n",
       "2                        Taylor Swift   \n",
       "3    Elvis Costello & The Attractions   \n",
       "4                           Lil Nas X   \n",
       "..                                ...   \n",
       "995           The Harvard Krokodiloes   \n",
       "996                        John Mayer   \n",
       "997                   Tears For Fears   \n",
       "998                        Ed Sheeran   \n",
       "999                            R.E.M.   \n",
       "\n",
       "                                            track_name  \\\n",
       "0                                           Easy On Me   \n",
       "1                                Years - 2021 Remaster   \n",
       "2    All Too Well (10 Minute Version) (Taylor's Ver...   \n",
       "3                           Pump It Up - 2021 Remaster   \n",
       "4                    INDUSTRY BABY (feat. Jack Harlow)   \n",
       "..                                                 ...   \n",
       "995                                The Lady is a Tramp   \n",
       "996                                          New Light   \n",
       "997                  Everybody Wants To Rule The World   \n",
       "998                                    Merry Christmas   \n",
       "999                                    Man On The Moon   \n",
       "\n",
       "                   track_id  popularity  \n",
       "0    0gplL1WMoJ6iYaPgMCL0gX         100  \n",
       "1    4S4ZY1yKo3WUtzsg3O6hcf          20  \n",
       "2    5enxwA8aAbwZbf5qCHORXi          95  \n",
       "3    3oyc1mIdCBGaU55wX7otqM          63  \n",
       "4    27NovPIUIRrOZoCHxABJwK          97  \n",
       "..                      ...         ...  \n",
       "995  2axQIZzOe1sY5qeXtBoT53           1  \n",
       "996  4T6FWA703h6H7zk1FoSARw          78  \n",
       "997  4qyMZZIKE7Qka9hrnE0ikK           8  \n",
       "998  3bH2Eu9A9ymI4UnGHRmoXg          76  \n",
       "999  5tw3Q1rAkiVN8wh0Ie9aWq           6  \n",
       "\n",
       "[1000 rows x 4 columns]"
      ]
     },
     "execution_count": 17,
     "metadata": {},
     "output_type": "execute_result"
    }
   ],
   "source": [
    "import pandas as pd\n",
    "track_dataframe = pd.DataFrame({'artist_name' : artist_name, 'track_name' : track_name, 'track_id' : track_id, 'popularity' : popularity})\n",
    "print(track_dataframe.shape)\n",
    "track_dataframe"
   ]
  },
  {
   "cell_type": "code",
   "execution_count": 19,
   "id": "bdeb82ad",
   "metadata": {},
   "outputs": [],
   "source": [
    "test_analysis = sp.audio_analysis(\"4VXIryQMWpIdGgYR4TrjT1\")"
   ]
  },
  {
   "cell_type": "code",
   "execution_count": 27,
   "id": "7cbac328",
   "metadata": {},
   "outputs": [],
   "source": [
    "test2 = sp.audio_features(\"4VXIryQMWpIdGgYR4TrjT1\")"
   ]
  },
  {
   "cell_type": "code",
   "execution_count": 28,
   "id": "d4eb4b17",
   "metadata": {},
   "outputs": [
    {
     "name": "stdout",
     "output_type": "stream",
     "text": [
      "[{'danceability': 0.671, 'energy': 0.529, 'key': 0, 'loudness': -7.226, 'mode': 1, 'speechiness': 0.307, 'acousticness': 0.0769, 'instrumentalness': 0.000335, 'liveness': 0.0856, 'valence': 0.203, 'tempo': 161.989, 'type': 'audio_features', 'id': '4VXIryQMWpIdGgYR4TrjT1', 'uri': 'spotify:track:4VXIryQMWpIdGgYR4TrjT1', 'track_href': 'https://api.spotify.com/v1/tracks/4VXIryQMWpIdGgYR4TrjT1', 'analysis_url': 'https://api.spotify.com/v1/audio-analysis/4VXIryQMWpIdGgYR4TrjT1', 'duration_ms': 165820, 'time_signature': 4}]\n"
     ]
    }
   ],
   "source": [
    "print(test2)"
   ]
  },
  {
   "cell_type": "code",
   "execution_count": null,
   "id": "1eb59aec",
   "metadata": {},
   "outputs": [],
   "source": []
  }
 ],
 "metadata": {
  "kernelspec": {
   "display_name": "Python 3",
   "language": "python",
   "name": "python3"
  },
  "language_info": {
   "codemirror_mode": {
    "name": "ipython",
    "version": 3
   },
   "file_extension": ".py",
   "mimetype": "text/x-python",
   "name": "python",
   "nbconvert_exporter": "python",
   "pygments_lexer": "ipython3",
   "version": "3.8.8"
  }
 },
 "nbformat": 4,
 "nbformat_minor": 5
}
